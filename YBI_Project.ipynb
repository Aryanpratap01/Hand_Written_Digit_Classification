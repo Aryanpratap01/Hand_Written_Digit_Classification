{
 "cells": [
  {
   "cell_type": "code",
   "execution_count": 21,
   "metadata": {
    "id": "7npXItJekm2g"
   },
   "outputs": [],
   "source": [
    "import pandas as pd"
   ]
  },
  {
   "cell_type": "code",
   "execution_count": 22,
   "metadata": {
    "id": "uJFV3RZllETu"
   },
   "outputs": [],
   "source": [
    "import numpy as np"
   ]
  },
  {
   "cell_type": "code",
   "execution_count": 23,
   "metadata": {
    "id": "O5dhwkgalOt9"
   },
   "outputs": [],
   "source": [
    "import matplotlib.pyplot as plt"
   ]
  },
  {
   "cell_type": "code",
   "execution_count": 24,
   "metadata": {
    "id": "RDWT9ih4lVgv"
   },
   "outputs": [],
   "source": [
    "from sklearn.datasets import load_digits"
   ]
  },
  {
   "cell_type": "code",
   "execution_count": 25,
   "metadata": {
    "id": "gsSaL8lRlqDf"
   },
   "outputs": [],
   "source": [
    "df = load_digits()"
   ]
  },
  {
   "cell_type": "code",
   "execution_count": 55,
   "metadata": {
    "colab": {
     "base_uri": "https://localhost:8080/",
     "height": 227
    },
    "id": "J0N2IEurnS9i",
    "outputId": "15aa787e-0679-4102-e3f8-79f9fe152c38"
   },
   "outputs": [
    {
     "data": {
      "image/png": "[encoded data removed]",
      "text/plain": [
       "<Figure size 1000x300 with 4 Axes>"
      ]
     },
     "metadata": {},
     "output_type": "display_data"
    }
   ],
   "source": [
    "_,axes = plt.subplots(nrows=1, ncols=4, figsize=(10, 3))\n",
    "\n",
    "for ax, image, label in zip(axes, df.images, df.target): \n",
    "  ax.set_axis_off() \n",
    "  ax.imshow(image, cmap=plt.cm.gray_r, interpolation=\"nearest\") \n",
    "  ax.set_title(\"Training: %i\" %label)"
   ]
  },
  {
   "cell_type": "code",
   "execution_count": 53,
   "metadata": {
    "colab": {
     "base_uri": "https://localhost:8080/"
    },
    "id": "k2-DPW8SnN-J",
    "outputId": "143ae7bf-cb85-41d9-aefe-a9873a3f7f2e"
   },
   "outputs": [
    {
     "data": {
      "text/plain": [
       "(1797, 8, 8)"
      ]
     },
     "execution_count": 53,
     "metadata": {},
     "output_type": "execute_result"
    }
   ],
   "source": [
    "df.images.shape"
   ]
  },
  {
   "cell_type": "code",
   "execution_count": 54,
   "metadata": {
    "colab": {
     "base_uri": "https://localhost:8080/"
    },
    "id": "daAP5-q_mQJf",
    "outputId": "eb626a38-edd5-4cb0-9f50-d6a7dabba07c"
   },
   "outputs": [
    {
     "data": {
      "text/plain": [
       "array([[ 0.,  0.,  5., 13.,  9.,  1.,  0.,  0.],\n",
       "       [ 0.,  0., 13., 15., 10., 15.,  5.,  0.],\n",
       "       [ 0.,  3., 15.,  2.,  0., 11.,  8.,  0.],\n",
       "       [ 0.,  4., 12.,  0.,  0.,  8.,  8.,  0.],\n",
       "       [ 0.,  5.,  8.,  0.,  0.,  9.,  8.,  0.],\n",
       "       [ 0.,  4., 11.,  0.,  1., 12.,  7.,  0.],\n",
       "       [ 0.,  2., 14.,  5., 10., 12.,  0.,  0.],\n",
       "       [ 0.,  0.,  6., 13., 10.,  0.,  0.,  0.]])"
      ]
     },
     "execution_count": 54,
     "metadata": {},
     "output_type": "execute_result"
    }
   ],
   "source": [
    "df.images[0]"
   ]
  },
  {
   "cell_type": "code",
   "execution_count": 29,
   "metadata": {
    "colab": {
     "base_uri": "https://localhost:8080/"
    },
    "id": "bTyxL6CCnxi_",
    "outputId": "6d9f37db-b734-4662-f3be-feebf95c5cc0"
   },
   "outputs": [
    {
     "data": {
      "text/plain": [
       "(8, 8)"
      ]
     },
     "execution_count": 29,
     "metadata": {},
     "output_type": "execute_result"
    }
   ],
   "source": [
    "df.images[0].shape"
   ]
  },
  {
   "cell_type": "code",
   "execution_count": 30,
   "metadata": {
    "colab": {
     "base_uri": "https://localhost:8080/"
    },
    "id": "HinCqcYhn1eS",
    "outputId": "2cbaf87a-d365-412c-80a1-a8f26cad40c8"
   },
   "outputs": [
    {
     "data": {
      "text/plain": [
       "1797"
      ]
     },
     "execution_count": 30,
     "metadata": {},
     "output_type": "execute_result"
    }
   ],
   "source": [
    "len(df.images)"
   ]
  },
  {
   "cell_type": "code",
   "execution_count": 31,
   "metadata": {
    "id": "6zfz1hB3oLJ0"
   },
   "outputs": [],
   "source": [
    "n_samples = len(df.images)\n",
    "\n",
    "data=df.images.reshape((n_samples, -1))"
   ]
  },
  {
   "cell_type": "code",
   "execution_count": 32,
   "metadata": {
    "colab": {
     "base_uri": "https://localhost:8080/"
    },
    "id": "qDlyfxYfoZRY",
    "outputId": "929f3c21-ce83-4f20-82b3-b501fd92acc9"
   },
   "outputs": [
    {
     "data": {
      "text/plain": [
       "array([ 0.,  0.,  5., 13.,  9.,  1.,  0.,  0.,  0.,  0., 13., 15., 10.,\n",
       "       15.,  5.,  0.,  0.,  3., 15.,  2.,  0., 11.,  8.,  0.,  0.,  4.,\n",
       "       12.,  0.,  0.,  8.,  8.,  0.,  0.,  5.,  8.,  0.,  0.,  9.,  8.,\n",
       "        0.,  0.,  4., 11.,  0.,  1., 12.,  7.,  0.,  0.,  2., 14.,  5.,\n",
       "       10., 12.,  0.,  0.,  0.,  0.,  6., 13., 10.,  0.,  0.,  0.])"
      ]
     },
     "execution_count": 32,
     "metadata": {},
     "output_type": "execute_result"
    }
   ],
   "source": [
    "data[0]"
   ]
  },
  {
   "cell_type": "code",
   "execution_count": 33,
   "metadata": {
    "colab": {
     "base_uri": "https://localhost:8080/"
    },
    "id": "iFWdEARPoc3h",
    "outputId": "1b30a573-a518-4a83-cb36-cf7d4a37c0b3"
   },
   "outputs": [
    {
     "data": {
      "text/plain": [
       "(64,)"
      ]
     },
     "execution_count": 33,
     "metadata": {},
     "output_type": "execute_result"
    }
   ],
   "source": [
    "data[0].shape"
   ]
  },
  {
   "cell_type": "code",
   "execution_count": 34,
   "metadata": {
    "colab": {
     "base_uri": "https://localhost:8080/"
    },
    "id": "9UDt6YYXolaM",
    "outputId": "efb2c0b2-83b0-40a6-f042-d304b813b130"
   },
   "outputs": [
    {
     "data": {
      "text/plain": [
       "(1797, 64)"
      ]
     },
     "execution_count": 34,
     "metadata": {},
     "output_type": "execute_result"
    }
   ],
   "source": [
    "data.shape"
   ]
  },
  {
   "cell_type": "code",
   "execution_count": 35,
   "metadata": {
    "colab": {
     "base_uri": "https://localhost:8080/"
    },
    "id": "TOJB2ugxoqSt",
    "outputId": "e49eaa99-490e-4a9e-ae01-7e8f433d54d6"
   },
   "outputs": [
    {
     "data": {
      "text/plain": [
       "0.0"
      ]
     },
     "execution_count": 35,
     "metadata": {},
     "output_type": "execute_result"
    }
   ],
   "source": [
    "data.min()"
   ]
  },
  {
   "cell_type": "code",
   "execution_count": 36,
   "metadata": {
    "colab": {
     "base_uri": "https://localhost:8080/"
    },
    "id": "uWsfnavsothd",
    "outputId": "74c113ed-350a-4b95-fbdf-193666e30e5f"
   },
   "outputs": [
    {
     "data": {
      "text/plain": [
       "16.0"
      ]
     },
     "execution_count": 36,
     "metadata": {},
     "output_type": "execute_result"
    }
   ],
   "source": [
    "data.max()"
   ]
  },
  {
   "cell_type": "code",
   "execution_count": 37,
   "metadata": {
    "id": "aKUzi7MIowmJ"
   },
   "outputs": [],
   "source": [
    "data=data/16"
   ]
  },
  {
   "cell_type": "code",
   "execution_count": 38,
   "metadata": {
    "colab": {
     "base_uri": "https://localhost:8080/"
    },
    "id": "NiDSO6cWo3mX",
    "outputId": "e61a2467-d672-49f5-b269-22e37176b705"
   },
   "outputs": [
    {
     "data": {
      "text/plain": [
       "0.0"
      ]
     },
     "execution_count": 38,
     "metadata": {},
     "output_type": "execute_result"
    }
   ],
   "source": [
    "data.min()"
   ]
  },
  {
   "cell_type": "code",
   "execution_count": 39,
   "metadata": {
    "colab": {
     "base_uri": "https://localhost:8080/"
    },
    "id": "X8BZWb-Xo7Nx",
    "outputId": "2e595c6e-6d46-4c18-f0fd-e324afbef1fd"
   },
   "outputs": [
    {
     "data": {
      "text/plain": [
       "1.0"
      ]
     },
     "execution_count": 39,
     "metadata": {},
     "output_type": "execute_result"
    }
   ],
   "source": [
    "data.max()"
   ]
  },
  {
   "cell_type": "code",
   "execution_count": 40,
   "metadata": {
    "colab": {
     "base_uri": "https://localhost:8080/"
    },
    "id": "MqIl4GC3pALz",
    "outputId": "91b484c8-f950-47ce-bd17-7b5f5650b263"
   },
   "outputs": [
    {
     "data": {
      "text/plain": [
       "array([0.    , 0.    , 0.3125, 0.8125, 0.5625, 0.0625, 0.    , 0.    ,\n",
       "       0.    , 0.    , 0.8125, 0.9375, 0.625 , 0.9375, 0.3125, 0.    ,\n",
       "       0.    , 0.1875, 0.9375, 0.125 , 0.    , 0.6875, 0.5   , 0.    ,\n",
       "       0.    , 0.25  , 0.75  , 0.    , 0.    , 0.5   , 0.5   , 0.    ,\n",
       "       0.    , 0.3125, 0.5   , 0.    , 0.    , 0.5625, 0.5   , 0.    ,\n",
       "       0.    , 0.25  , 0.6875, 0.    , 0.0625, 0.75  , 0.4375, 0.    ,\n",
       "       0.    , 0.125 , 0.875 , 0.3125, 0.625 , 0.75  , 0.    , 0.    ,\n",
       "       0.    , 0.    , 0.375 , 0.8125, 0.625 , 0.    , 0.    , 0.    ])"
      ]
     },
     "execution_count": 40,
     "metadata": {},
     "output_type": "execute_result"
    }
   ],
   "source": [
    "data[0]"
   ]
  },
  {
   "cell_type": "code",
   "execution_count": 41,
   "metadata": {
    "id": "KanQ1J03pAPQ"
   },
   "outputs": [],
   "source": [
    "from sklearn.model_selection import train_test_split"
   ]
  },
  {
   "cell_type": "code",
   "execution_count": 42,
   "metadata": {
    "id": "HuYIOSaKpRf5"
   },
   "outputs": [],
   "source": [
    "X_train, X_test, y_train, y_test = train_test_split(data, df.target, test_size=0.3)"
   ]
  },
  {
   "cell_type": "code",
   "execution_count": 43,
   "metadata": {
    "colab": {
     "base_uri": "https://localhost:8080/"
    },
    "id": "LFwFa7WSpvGz",
    "outputId": "4ae5e52e-7662-4628-944c-899bb80b6ba2"
   },
   "outputs": [
    {
     "data": {
      "text/plain": [
       "((1257, 64), (540, 64), (1257,), (540,))"
      ]
     },
     "execution_count": 43,
     "metadata": {},
     "output_type": "execute_result"
    }
   ],
   "source": [
    "X_train.shape, X_test.shape, y_train.shape, y_test.shape"
   ]
  },
  {
   "cell_type": "code",
   "execution_count": 44,
   "metadata": {
    "id": "tZjxvT72p5TL"
   },
   "outputs": [],
   "source": [
    "from sklearn.ensemble import RandomForestClassifier"
   ]
  },
  {
   "cell_type": "code",
   "execution_count": 45,
   "metadata": {
    "id": "5pAKAvJWqFex"
   },
   "outputs": [],
   "source": [
    "rf=RandomForestClassifier()"
   ]
  },
  {
   "cell_type": "code",
   "execution_count": 46,
   "metadata": {
    "colab": {
     "base_uri": "https://localhost:8080/",
     "height": 74
    },
    "id": "WIsrhhJuqKdE",
    "outputId": "6caa3e44-6c6a-4fee-8ff4-8e18c0820c3a"
   },
   "outputs": [
    {
     "data": {
      "text/html": [
       "<style>#sk-container-id-1 {color: black;background-color: white;}#sk-container-id-1 pre{padding: 0;}#sk-container-id-1 div.sk-toggleable {background-color: white;}#sk-container-id-1 label.sk-toggleable__label {cursor: pointer;display: block;width: 100%;margin-bottom: 0;padding: 0.3em;box-sizing: border-box;text-align: center;}#sk-container-id-1 label.sk-toggleable__label-arrow:before {content: \"▸\";float: left;margin-right: 0.25em;color: #696969;}#sk-container-id-1 label.sk-toggleable__label-arrow:hover:before {color: black;}#sk-container-id-1 div.sk-estimator:hover label.sk-toggleable__label-arrow:before {color: black;}#sk-container-id-1 div.sk-toggleable__content {max-height: 0;max-width: 0;overflow: hidden;text-align: left;background-color: #f0f8ff;}#sk-container-id-1 div.sk-toggleable__content pre {margin: 0.2em;color: black;border-radius: 0.25em;background-color: #f0f8ff;}#sk-container-id-1 input.sk-toggleable__control:checked~div.sk-toggleable__content {max-height: 200px;max-width: 100%;overflow: auto;}#sk-container-id-1 input.sk-toggleable__control:checked~label.sk-toggleable__label-arrow:before {content: \"▾\";}#sk-container-id-1 div.sk-estimator input.sk-toggleable__control:checked~label.sk-toggleable__label {background-color: #d4ebff;}#sk-container-id-1 div.sk-label input.sk-toggleable__control:checked~label.sk-toggleable__label {background-color: #d4ebff;}#sk-container-id-1 input.sk-hidden--visually {border: 0;clip: rect(1px 1px 1px 1px);clip: rect(1px, 1px, 1px, 1px);height: 1px;margin: -1px;overflow: hidden;padding: 0;position: absolute;width: 1px;}#sk-container-id-1 div.sk-estimator {font-family: monospace;background-color: #f0f8ff;border: 1px dotted black;border-radius: 0.25em;box-sizing: border-box;margin-bottom: 0.5em;}#sk-container-id-1 div.sk-estimator:hover {background-color: #d4ebff;}#sk-container-id-1 div.sk-parallel-item::after {content: \"\";width: 100%;border-bottom: 1px solid gray;flex-grow: 1;}#sk-container-id-1 div.sk-label:hover label.sk-toggleable__label {background-color: #d4ebff;}#sk-container-id-1 div.sk-serial::before {content: \"\";position: absolute;border-left: 1px solid gray;box-sizing: border-box;top: 0;bottom: 0;left: 50%;z-index: 0;}#sk-container-id-1 div.sk-serial {display: flex;flex-direction: column;align-items: center;background-color: white;padding-right: 0.2em;padding-left: 0.2em;position: relative;}#sk-container-id-1 div.sk-item {position: relative;z-index: 1;}#sk-container-id-1 div.sk-parallel {display: flex;align-items: stretch;justify-content: center;background-color: white;position: relative;}#sk-container-id-1 div.sk-item::before, #sk-container-id-1 div.sk-parallel-item::before {content: \"\";position: absolute;border-left: 1px solid gray;box-sizing: border-box;top: 0;bottom: 0;left: 50%;z-index: -1;}#sk-container-id-1 div.sk-parallel-item {display: flex;flex-direction: column;z-index: 1;position: relative;background-color: white;}#sk-container-id-1 div.sk-parallel-item:first-child::after {align-self: flex-end;width: 50%;}#sk-container-id-1 div.sk-parallel-item:last-child::after {align-self: flex-start;width: 50%;}#sk-container-id-1 div.sk-parallel-item:only-child::after {width: 0;}#sk-container-id-1 div.sk-dashed-wrapped {border: 1px dashed gray;margin: 0 0.4em 0.5em 0.4em;box-sizing: border-box;padding-bottom: 0.4em;background-color: white;}#sk-container-id-1 div.sk-label label {font-family: monospace;font-weight: bold;display: inline-block;line-height: 1.2em;}#sk-container-id-1 div.sk-label-container {text-align: center;}#sk-container-id-1 div.sk-container {/* jupyter's `normalize.less` sets `[hidden] { display: none; }` but bootstrap.min.css set `[hidden] { display: none !important; }` so we also need the `!important` here to be able to override the default hidden behavior on the sphinx rendered scikit-learn.org. See: https://github.com/scikit-learn/scikit-learn/issues/21755 */display: inline-block !important;position: relative;}#sk-container-id-1 div.sk-text-repr-fallback {display: none;}</style><div id=\"sk-container-id-1\" class=\"sk-top-container\"><div class=\"sk-text-repr-fallback\"><pre>RandomForestClassifier()</pre><b>In a Jupyter environment, please rerun this cell to show the HTML representation or trust the notebook. <br />On GitHub, the HTML representation is unable to render, please try loading this page with nbviewer.org.</b></div><div class=\"sk-container\" hidden><div class=\"sk-item\"><div class=\"sk-estimator sk-toggleable\"><input class=\"sk-toggleable__control sk-hidden--visually\" id=\"sk-estimator-id-1\" type=\"checkbox\" checked><label for=\"sk-estimator-id-1\" class=\"sk-toggleable__label sk-toggleable__label-arrow\">RandomForestClassifier</label><div class=\"sk-toggleable__content\"><pre>RandomForestClassifier()</pre></div></div></div></div></div>"
      ],
      "text/plain": [
       "RandomForestClassifier()"
      ]
     },
     "execution_count": 46,
     "metadata": {},
     "output_type": "execute_result"
    }
   ],
   "source": [
    "rf.fit(X_train,y_train)"
   ]
  },
  {
   "cell_type": "code",
   "execution_count": 47,
   "metadata": {
    "id": "BNIEPjctqXO6"
   },
   "outputs": [],
   "source": [
    "y_pred=rf.predict(X_test)"
   ]
  },
  {
   "cell_type": "code",
   "execution_count": 48,
   "metadata": {
    "colab": {
     "base_uri": "https://localhost:8080/"
    },
    "id": "GddBrOjiqrFM",
    "outputId": "8806a857-3485-4f17-f6d6-5d831cea26c5"
   },
   "outputs": [
    {
     "data": {
      "text/plain": [
       "array([7, 2, 2, 0, 6, 2, 3, 7, 4, 4, 2, 2, 4, 3, 5, 2, 4, 6, 8, 4, 0, 2,\n",
       "       4, 4, 5, 9, 6, 9, 9, 8, 6, 8, 2, 7, 7, 7, 4, 9, 2, 6, 9, 6, 2, 1,\n",
       "       4, 5, 8, 0, 9, 1, 3, 9, 7, 0, 6, 0, 9, 1, 3, 5, 4, 2, 9, 4, 0, 2,\n",
       "       6, 9, 1, 4, 0, 5, 2, 1, 5, 4, 0, 4, 3, 5, 8, 4, 8, 0, 2, 1, 1, 6,\n",
       "       7, 4, 2, 1, 2, 4, 3, 2, 7, 9, 1, 5, 6, 8, 4, 8, 3, 1, 5, 2, 9, 8,\n",
       "       9, 8, 3, 5, 5, 0, 4, 6, 6, 1, 7, 0, 4, 0, 8, 0, 7, 9, 0, 5, 0, 3,\n",
       "       1, 0, 0, 4, 7, 3, 5, 9, 3, 8, 6, 5, 8, 4, 6, 2, 7, 2, 5, 1, 8, 2,\n",
       "       0, 1, 9, 1, 1, 0, 6, 8, 3, 6, 2, 2, 6, 2, 0, 7, 0, 1, 1, 7, 4, 9,\n",
       "       7, 4, 5, 0, 7, 7, 1, 3, 4, 3, 1, 0, 6, 7, 6, 2, 6, 3, 9, 6, 2, 4,\n",
       "       7, 5, 5, 1, 0, 0, 0, 9, 1, 5, 5, 6, 5, 4, 3, 3, 9, 8, 6, 1, 4, 7,\n",
       "       7, 9, 7, 8, 6, 0, 4, 8, 7, 6, 4, 3, 2, 7, 4, 5, 6, 6, 8, 1, 9, 5,\n",
       "       9, 4, 1, 3, 5, 1, 6, 3, 1, 5, 6, 3, 8, 7, 9, 1, 6, 2, 8, 7, 1, 5,\n",
       "       1, 5, 4, 5, 1, 9, 6, 3, 0, 2, 0, 8, 4, 5, 8, 4, 2, 0, 0, 6, 1, 3,\n",
       "       0, 5, 7, 4, 1, 2, 9, 6, 7, 0, 1, 0, 7, 3, 2, 4, 8, 9, 1, 0, 5, 0,\n",
       "       0, 8, 4, 4, 7, 8, 6, 6, 2, 3, 7, 6, 3, 0, 0, 7, 2, 6, 9, 3, 1, 6,\n",
       "       9, 0, 1, 9, 1, 7, 9, 9, 2, 2, 4, 3, 3, 4, 2, 9, 0, 8, 5, 9, 1, 2,\n",
       "       0, 6, 3, 7, 0, 8, 8, 9, 9, 9, 6, 2, 2, 0, 1, 0, 0, 8, 7, 0, 8, 1,\n",
       "       2, 1, 6, 7, 8, 4, 3, 7, 4, 2, 9, 0, 0, 1, 5, 3, 9, 2, 9, 9, 1, 6,\n",
       "       7, 5, 4, 2, 1, 9, 0, 5, 5, 5, 9, 1, 4, 1, 8, 0, 7, 4, 8, 8, 1, 8,\n",
       "       2, 0, 9, 8, 9, 2, 8, 5, 1, 4, 1, 1, 4, 9, 6, 7, 6, 2, 3, 7, 6, 9,\n",
       "       0, 9, 9, 0, 5, 8, 5, 0, 3, 3, 2, 2, 7, 8, 6, 4, 4, 6, 9, 1, 6, 5,\n",
       "       2, 5, 8, 5, 5, 1, 9, 7, 0, 7, 8, 8, 3, 9, 5, 2, 1, 8, 9, 5, 9, 3,\n",
       "       8, 3, 8, 6, 3, 0, 9, 1, 4, 2, 6, 2, 8, 0, 7, 0, 7, 5, 1, 6, 7, 7,\n",
       "       1, 7, 7, 4, 3, 2, 9, 4, 6, 0, 0, 9, 2, 3, 8, 2, 6, 0, 9, 3, 4, 4,\n",
       "       9, 5, 8, 7, 4, 0, 7, 0, 2, 4, 6, 5])"
      ]
     },
     "execution_count": 48,
     "metadata": {},
     "output_type": "execute_result"
    }
   ],
   "source": [
    "y_pred"
   ]
  },
  {
   "cell_type": "code",
   "execution_count": 49,
   "metadata": {
    "id": "CoPPg5Jeq4br"
   },
   "outputs": [],
   "source": [
    "from sklearn.metrics import confusion_matrix, classification_report"
   ]
  },
  {
   "cell_type": "code",
   "execution_count": 50,
   "metadata": {
    "colab": {
     "base_uri": "https://localhost:8080/"
    },
    "id": "kxElPW0jrFXz",
    "outputId": "08d83826-f404-4a67-a847-ccec96f2960b"
   },
   "outputs": [
    {
     "data": {
      "text/plain": [
       "array([[63,  0,  0,  0,  0,  0,  0,  0,  0,  0],\n",
       "       [ 0, 54,  0,  0,  0,  0,  0,  0,  0,  0],\n",
       "       [ 0,  0, 55,  0,  0,  0,  0,  0,  0,  0],\n",
       "       [ 0,  0,  0, 42,  0,  0,  0,  0,  0,  0],\n",
       "       [ 0,  0,  0,  0, 56,  0,  0,  0,  0,  1],\n",
       "       [ 0,  0,  0,  0,  1, 49,  0,  0,  0,  1],\n",
       "       [ 1,  0,  0,  0,  0,  0, 54,  0,  1,  0],\n",
       "       [ 0,  0,  0,  0,  0,  0,  0, 52,  0,  1],\n",
       "       [ 0,  3,  2,  0,  0,  0,  0,  0, 46,  1],\n",
       "       [ 0,  0,  0,  0,  0,  0,  0,  0,  2, 55]], dtype=int64)"
      ]
     },
     "execution_count": 50,
     "metadata": {},
     "output_type": "execute_result"
    }
   ],
   "source": [
    "confusion_matrix(y_test,y_pred)"
   ]
  },
  {
   "cell_type": "code",
   "execution_count": 51,
   "metadata": {
    "colab": {
     "base_uri": "https://localhost:8080/"
    },
    "id": "Wm5G1eTzrWj6",
    "outputId": "2db74b01-d24f-41f5-e19c-eea4749db828"
   },
   "outputs": [
    {
     "name": "stdout",
     "output_type": "stream",
     "text": [
      "              precision    recall  f1-score   support\n",
      "\n",
      "           0       0.98      1.00      0.99        63\n",
      "           1       0.95      1.00      0.97        54\n",
      "           2       0.96      1.00      0.98        55\n",
      "           3       1.00      1.00      1.00        42\n",
      "           4       0.98      0.98      0.98        57\n",
      "           5       1.00      0.96      0.98        51\n",
      "           6       1.00      0.96      0.98        56\n",
      "           7       1.00      0.98      0.99        53\n",
      "           8       0.94      0.88      0.91        52\n",
      "           9       0.93      0.96      0.95        57\n",
      "\n",
      "    accuracy                           0.97       540\n",
      "   macro avg       0.98      0.97      0.97       540\n",
      "weighted avg       0.97      0.97      0.97       540\n",
      "\n"
     ]
    }
   ],
   "source": [
    "print(classification_report(y_test,y_pred))"
   ]
  },
  {
   "cell_type": "code",
   "execution_count": null,
   "metadata": {},
   "outputs": [],
   "source": []
  },
  {
   "cell_type": "code",
   "execution_count": null,
   "metadata": {},
   "outputs": [],
   "source": []
  },
  {
   "cell_type": "code",
   "execution_count": null,
   "metadata": {},
   "outputs": [],
   "source": []
  },
  {
   "cell_type": "code",
   "execution_count": null,
   "metadata": {},
   "outputs": [],
   "source": []
  },
  {
   "cell_type": "code",
   "execution_count": null,
   "metadata": {},
   "outputs": [],
   "source": []
  },
  {
   "cell_type": "code",
   "execution_count": null,
   "metadata": {},
   "outputs": [],
   "source": []
  }
 ],
 "metadata": {
  "colab": {
   "provenance": []
  },
  "kernelspec": {
   "display_name": "Python 3 (ipykernel)",
   "language": "python",
   "name": "python3"
  },
  "language_info": {
   "codemirror_mode": {
    "name": "ipython",
    "version": 3
   },
   "file_extension": ".py",
   "mimetype": "text/x-python",
   "name": "python",
   "nbconvert_exporter": "python",
   "pygments_lexer": "ipython3",
   "version": "3.10.9"
  }
 },
 "nbformat": 4,
 "nbformat_minor": 1
}
